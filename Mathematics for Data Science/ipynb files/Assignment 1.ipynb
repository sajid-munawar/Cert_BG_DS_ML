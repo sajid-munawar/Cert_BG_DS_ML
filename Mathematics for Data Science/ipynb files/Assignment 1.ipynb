{
 "cells": [
  {
   "cell_type": "markdown",
   "metadata": {},
   "source": [
    "Write a programe to determine if a number is even or odd"
   ]
  },
  {
   "cell_type": "code",
   "execution_count": 4,
   "metadata": {},
   "outputs": [
    {
     "name": "stdout",
     "output_type": "stream",
     "text": [
      "Enter Number 5\n",
      "5 is an Odd number\n"
     ]
    }
   ],
   "source": [
    "num=int(input(\"Enter Number \"))\n",
    "if num%2==0:\n",
    "    print(f\"{num} is an Even number\")\n",
    "else:\n",
    "    print(f\"{num} is an Odd number\")"
   ]
  },
  {
   "cell_type": "markdown",
   "metadata": {},
   "source": [
    "Write a program to convert C to F and KM to Mile"
   ]
  },
  {
   "cell_type": "code",
   "execution_count": 13,
   "metadata": {},
   "outputs": [
    {
     "name": "stdout",
     "output_type": "stream",
     "text": [
      "Enter tempreture in celsius 23\n",
      "23 C = 73.4 F\n",
      "Write KM 3\n",
      "3 Km = 1.875 mile\n"
     ]
    }
   ],
   "source": [
    "# To convert temperature in degrees celsius to fahrenheit,multiply by 1.8(9/5) and add 32\n",
    "C=int(input(\"Enter tempreture in celsius \"))\n",
    "F=(C*9/5)+32\n",
    "print(f\"{C} C = {F} F\")\n",
    "KM=int(input(\"Write KM \"))\n",
    "Mile=0.625*KM\n",
    "print(f\"{KM} Km = {Mile} mile\" )"
   ]
  },
  {
   "cell_type": "code",
   "execution_count": 14,
   "metadata": {},
   "outputs": [
    {
     "data": {
      "text/plain": [
       "0.625"
      ]
     },
     "execution_count": 14,
     "metadata": {},
     "output_type": "execute_result"
    }
   ],
   "source": [
    "# C=5/9 (F-32)\n",
    "# 1M=1.6km\n",
    "1/1.6"
   ]
  },
  {
   "cell_type": "markdown",
   "metadata": {},
   "source": [
    "Write a programe to print multiplication table"
   ]
  },
  {
   "cell_type": "code",
   "execution_count": 15,
   "metadata": {},
   "outputs": [
    {
     "name": "stdout",
     "output_type": "stream",
     "text": [
      "Enter number 5\n",
      " 5 x 1 = 5\n",
      " 5 x 2 = 10\n",
      " 5 x 3 = 15\n",
      " 5 x 4 = 20\n",
      " 5 x 5 = 25\n",
      " 5 x 6 = 30\n",
      " 5 x 7 = 35\n",
      " 5 x 8 = 40\n",
      " 5 x 9 = 45\n",
      " 5 x 10 = 50\n"
     ]
    }
   ],
   "source": [
    "num=int(input(\"Enter number \"))\n",
    "for i in range(1,11):\n",
    "    print(f\" {num} x {i} = {num*i}\")"
   ]
  },
  {
   "cell_type": "code",
   "execution_count": 37,
   "metadata": {},
   "outputs": [
    {
     "name": "stdout",
     "output_type": "stream",
     "text": [
      "num 5\n"
     ]
    },
    {
     "data": {
      "text/plain": [
       "[5, 10, 15, 20, 25, 30, 35, 40, 45, 50]"
      ]
     },
     "execution_count": 37,
     "metadata": {},
     "output_type": "execute_result"
    }
   ],
   "source": [
    "a=int(input(\"num \"))\n",
    "[i*a for i in range(1,11)]"
   ]
  },
  {
   "cell_type": "markdown",
   "metadata": {},
   "source": [
    "mean"
   ]
  },
  {
   "cell_type": "raw",
   "metadata": {},
   "source": [
    "mean=sum of total values /n"
   ]
  },
  {
   "cell_type": "markdown",
   "metadata": {},
   "source": [
    "mode"
   ]
  },
  {
   "cell_type": "raw",
   "metadata": {},
   "source": [
    "most repeted value is called mode\n",
    "if no one value is repeating we can say that all values are mode or no mode value"
   ]
  },
  {
   "cell_type": "markdown",
   "metadata": {},
   "source": [
    "median"
   ]
  },
  {
   "cell_type": "raw",
   "metadata": {},
   "source": [
    "middle value is called median.\n",
    "if the number of values are even we will add middle two values and then\n",
    "subtract them with 2"
   ]
  },
  {
   "cell_type": "markdown",
   "metadata": {},
   "source": [
    "Range"
   ]
  },
  {
   "cell_type": "raw",
   "metadata": {},
   "source": [
    "range=last value(max value)-first value(min value)\n",
    "list=1,2,...9\n",
    "range=9-1\n",
    "range=8"
   ]
  },
  {
   "cell_type": "markdown",
   "metadata": {},
   "source": [
    "Varience"
   ]
  },
  {
   "cell_type": "raw",
   "metadata": {},
   "source": [
    "Spread of data is called varience.\n",
    "It means how much a data is spread from a middle point.\n",
    "Formula:\n",
    "    varience=sum(x-x_mean)**2/n"
   ]
  },
  {
   "cell_type": "markdown",
   "metadata": {},
   "source": [
    "correlation"
   ]
  },
  {
   "cell_type": "raw",
   "metadata": {},
   "source": [
    "Correlation is an indicator of how strongly these two varibales are related.\n",
    "correlation limitid the values from -1 to +1.\n",
    "Formula:\n",
    "    correlation=n(sum( (x)*(y) ) - (sum(x))*(sum(y)) / ((n *sum((x)**2)- (sum(x))**2) * (n* sum((y)**2)- (sum(y))**2)))**0.5"
   ]
  },
  {
   "cell_type": "markdown",
   "metadata": {},
   "source": [
    "Standard deviation"
   ]
  },
  {
   "cell_type": "raw",
   "metadata": {},
   "source": [
    "std=sqrt(varience)\n",
    "std=varience**0.5"
   ]
  },
  {
   "cell_type": "code",
   "execution_count": 73,
   "metadata": {},
   "outputs": [],
   "source": [
    "x=[4,5,3,7,9]"
   ]
  },
  {
   "cell_type": "code",
   "execution_count": 74,
   "metadata": {},
   "outputs": [],
   "source": [
    "x_xmean=[]"
   ]
  },
  {
   "cell_type": "code",
   "execution_count": 75,
   "metadata": {},
   "outputs": [
    {
     "data": {
      "text/plain": [
       "5.6"
      ]
     },
     "execution_count": 75,
     "metadata": {},
     "output_type": "execute_result"
    }
   ],
   "source": [
    "xmean=sum(x)/len(x)\n",
    "xmean"
   ]
  },
  {
   "cell_type": "code",
   "execution_count": 76,
   "metadata": {},
   "outputs": [],
   "source": [
    "for i in enumerate(x):\n",
    "    x_xmean.append((x[i[0]]-xmean))"
   ]
  },
  {
   "cell_type": "code",
   "execution_count": 77,
   "metadata": {},
   "outputs": [
    {
     "data": {
      "text/plain": [
       "[-1.5999999999999996,\n",
       " -0.5999999999999996,\n",
       " -2.5999999999999996,\n",
       " 1.4000000000000004,\n",
       " 3.4000000000000004]"
      ]
     },
     "execution_count": 77,
     "metadata": {},
     "output_type": "execute_result"
    }
   ],
   "source": [
    "x_xmean"
   ]
  },
  {
   "cell_type": "code",
   "execution_count": 78,
   "metadata": {},
   "outputs": [
    {
     "name": "stdout",
     "output_type": "stream",
     "text": [
      "4\n",
      "5\n",
      "3\n",
      "7\n",
      "9\n"
     ]
    }
   ],
   "source": [
    "for i in enumerate(x):\n",
    "    print(x[i[0]])"
   ]
  },
  {
   "cell_type": "code",
   "execution_count": 79,
   "metadata": {},
   "outputs": [
    {
     "data": {
      "text/plain": [
       "[2.5599999999999987,\n",
       " 0.3599999999999996,\n",
       " 6.759999999999998,\n",
       " 1.960000000000001,\n",
       " 11.560000000000002]"
      ]
     },
     "execution_count": 79,
     "metadata": {},
     "output_type": "execute_result"
    }
   ],
   "source": [
    "x_xmean_square=[]\n",
    "for i in enumerate(x_xmean):\n",
    "    x_xmean_square.append(x_xmean[i[0]]**2)\n",
    "x_xmean_square"
   ]
  },
  {
   "cell_type": "code",
   "execution_count": 81,
   "metadata": {},
   "outputs": [
    {
     "data": {
      "text/plain": [
       "4.64"
      ]
     },
     "execution_count": 81,
     "metadata": {},
     "output_type": "execute_result"
    }
   ],
   "source": [
    "varience=sum(x_xmean_square)/len(x)\n",
    "varience"
   ]
  },
  {
   "cell_type": "code",
   "execution_count": 82,
   "metadata": {},
   "outputs": [
    {
     "data": {
      "text/plain": [
       "2.1540659228538015"
      ]
     },
     "execution_count": 82,
     "metadata": {},
     "output_type": "execute_result"
    }
   ],
   "source": [
    "std=varience**0.5\n",
    "std"
   ]
  },
  {
   "cell_type": "code",
   "execution_count": 86,
   "metadata": {},
   "outputs": [
    {
     "name": "stdout",
     "output_type": "stream",
     "text": [
      "x = [4, 5, 3, 7, 9]\n",
      "\n",
      "x mean = 5.6\n",
      "\n",
      "x-xmean = [-1.5999999999999996, -0.5999999999999996, -2.5999999999999996, 1.4000000000000004, 3.4000000000000004]\n",
      "\n",
      "x_xmean square = [2.5599999999999987, 0.3599999999999996, 6.759999999999998, 1.960000000000001, 11.560000000000002]\n",
      "\n",
      "Varience = 4.64\n",
      "\n",
      "Standard deviation = 2.1540659228538015\n",
      "\n"
     ]
    }
   ],
   "source": [
    "x=[4,5,3,7,9]\n",
    "xmean=sum(x)/len(x)\n",
    "x_xmean=[]\n",
    "for i in enumerate(x):\n",
    "    x_xmean.append((x[i[0]]-xmean))\n",
    "x_xmean_square=[]\n",
    "for i in enumerate(x_xmean):\n",
    "    x_xmean_square.append(x_xmean[i[0]]**2)\n",
    "varience=sum(x_xmean_square)/len(x)\n",
    "std=varience**0.5\n",
    "print(f\"x = {x}\" ,end=\"\\n\\n\")\n",
    "print(f\"x mean = {xmean}\" ,end=\"\\n\\n\")\n",
    "print(f\"x-xmean = {x_xmean}\" ,end=\"\\n\\n\")\n",
    "print(f\"x_xmean square = {x_xmean_square}\" ,end=\"\\n\\n\")\n",
    "print(f\"Varience = {varience}\" ,end=\"\\n\\n\")\n",
    "print(f\"Standard deviation = {std}\" ,end=\"\\n\\n\")"
   ]
  },
  {
   "cell_type": "markdown",
   "metadata": {},
   "source": [
    "find median"
   ]
  },
  {
   "cell_type": "raw",
   "metadata": {},
   "source": [
    "mdian can be founded with two methods\n",
    "1 programatical\n",
    "2 methematical"
   ]
  },
  {
   "cell_type": "code",
   "execution_count": 9,
   "metadata": {},
   "outputs": [
    {
     "name": "stdout",
     "output_type": "stream",
     "text": [
      "4.5\n"
     ]
    }
   ],
   "source": [
    "# x=[2,7,9,4,5,11,5,6,5,7,1,3]\n",
    "# x=[1.40,7.10,0.75]\n",
    "# x=[-4.5,-1.3]\n",
    "x=[2,3,4,5,6,7]\n",
    "length=len(x)\n",
    "length\n",
    "if len(x)%2!=0:\n",
    "    print(x[int(len(x)/2)])\n",
    "else:\n",
    "    a=int(len(x)/2)\n",
    "    b=(x[a]+x[a-1])/2\n",
    "    print(b)"
   ]
  },
  {
   "cell_type": "code",
   "execution_count": 33,
   "metadata": {},
   "outputs": [
    {
     "data": {
      "text/plain": [
       "38.5"
      ]
     },
     "execution_count": 33,
     "metadata": {},
     "output_type": "execute_result"
    }
   ],
   "source": [
    "x=[2,3,4,5,6,7]\n",
    "x=[22,33,44,55]\n",
    "# 1/2((n/2)+(n+2/2))\n",
    "#          3            4\n",
    "a=x[(int(((len(x)+2)/2))-1)]\n",
    "median=(x[(int(len(x)/2)-1)]+a)/2\n",
    "median\n",
    "# a"
   ]
  },
  {
   "cell_type": "code",
   "execution_count": 34,
   "metadata": {},
   "outputs": [
    {
     "data": {
      "text/plain": [
       "38.5"
      ]
     },
     "execution_count": 34,
     "metadata": {},
     "output_type": "execute_result"
    }
   ],
   "source": [
    "(33+44)/2"
   ]
  },
  {
   "cell_type": "markdown",
   "metadata": {},
   "source": [
    "find mode"
   ]
  },
  {
   "cell_type": "raw",
   "metadata": {},
   "source": [
    "Mode is the most repetative value in a data"
   ]
  },
  {
   "cell_type": "code",
   "execution_count": 161,
   "metadata": {},
   "outputs": [],
   "source": [
    "x=[1,2,5,1,7]\n",
    "for i in enumerate(x):\n",
    "    y=[]\n",
    "    for j in enumerate(x):\n",
    "        a=0\n",
    "#         print(j[0])\n",
    "#         if x[i[0]]==x[j[0]]:\n",
    "#             y.append(x[j[0]])\n",
    "# print(y)"
   ]
  },
  {
   "cell_type": "code",
   "execution_count": 162,
   "metadata": {},
   "outputs": [
    {
     "data": {
      "text/plain": [
       "[1, 2, 5, 1, 7]"
      ]
     },
     "execution_count": 162,
     "metadata": {},
     "output_type": "execute_result"
    }
   ],
   "source": [
    "x"
   ]
  },
  {
   "cell_type": "code",
   "execution_count": 163,
   "metadata": {},
   "outputs": [
    {
     "data": {
      "text/plain": [
       "{1, 2, 5, 7}"
      ]
     },
     "execution_count": 163,
     "metadata": {},
     "output_type": "execute_result"
    }
   ],
   "source": [
    "set(x)"
   ]
  },
  {
   "cell_type": "markdown",
   "metadata": {},
   "source": [
    "correlation"
   ]
  },
  {
   "cell_type": "code",
   "execution_count": null,
   "metadata": {},
   "outputs": [],
   "source": [
    "x=[1,3,4,2,4,5]\n",
    "y=[5,3,2,1,3,4]\n",
    "sox=sum(x)\n",
    "soy=sum(y)\n",
    "correlation="
   ]
  }
 ],
 "metadata": {
  "kernelspec": {
   "display_name": "Python 3",
   "language": "python",
   "name": "python3"
  },
  "language_info": {
   "codemirror_mode": {
    "name": "ipython",
    "version": 3
   },
   "file_extension": ".py",
   "mimetype": "text/x-python",
   "name": "python",
   "nbconvert_exporter": "python",
   "pygments_lexer": "ipython3",
   "version": "3.8.5"
  }
 },
 "nbformat": 4,
 "nbformat_minor": 4
}
